{
 "cells": [
  {
   "cell_type": "markdown",
   "metadata": {},
   "source": [
    "# PRACTICA 1 "
   ]
  },
  {
   "cell_type": "markdown",
   "metadata": {},
   "source": [
    "## LISTAS "
   ]
  },
  {
   "cell_type": "markdown",
   "metadata": {},
   "source": [
    "Ejercicio: Cual fue el resultado de la ejecución tal cual aparece en la terminal"
   ]
  },
  {
   "cell_type": "code",
   "execution_count": 2,
   "metadata": {},
   "outputs": [
    {
     "name": "stdout",
     "output_type": "stream",
     "text": [
      "['trek', 'cannondale', 'redline', 'specialized']\n"
     ]
    }
   ],
   "source": [
    "bicycles = ['trek', 'cannondale', 'redline', 'specialized']\n",
    "print(bicycles)\n"
   ]
  },
  {
   "cell_type": "markdown",
   "metadata": {},
   "source": [
    "En la lista bicycles como se mando a imprimir la lista en su totalidad, en la terminal aparecio el contenido de la lista."
   ]
  },
  {
   "cell_type": "markdown",
   "metadata": {},
   "source": [
    "Ejercico: Escriba cual fue el resultado de la ejecución tal cual aparece en la terminal\n",
    " "
   ]
  },
  {
   "cell_type": "code",
   "execution_count": 3,
   "metadata": {},
   "outputs": [
    {
     "name": "stdout",
     "output_type": "stream",
     "text": [
      "cannondale\n"
     ]
    }
   ],
   "source": [
    "bicycles = ['trek', 'cannondale', 'redline', 'specialized']\n",
    "print(bicycles[1])"
   ]
  },
  {
   "cell_type": "markdown",
   "metadata": {},
   "source": [
    "En la lista bicycles se mando a imprimir la posicion 1 de la lista, por lo tanto el resultado de la terminal fue cannondale "
   ]
  },
  {
   "cell_type": "markdown",
   "metadata": {},
   "source": [
    "### TAREA "
   ]
  },
  {
   "cell_type": "raw",
   "metadata": {},
   "source": [
    "• Nombres: Realiza una lista con algunos nombres de tus amigos en una lista llamada names. Imprime en la pantalla el nombre de cada persona ingresando elemento por elemento."
   ]
  },
  {
   "cell_type": "code",
   "execution_count": 5,
   "metadata": {},
   "outputs": [
    {
     "name": "stdout",
     "output_type": "stream",
     "text": [
      "Benjamin\n",
      "Irving\n",
      "Yaneli\n"
     ]
    }
   ],
   "source": [
    "names=['Benjamin','Irving','Yaneli']\n",
    "print(names[0])\n",
    "print(names[1])\n",
    "print(names[2])\n",
    "\n"
   ]
  },
  {
   "cell_type": "markdown",
   "metadata": {},
   "source": [
    "• Mensaje:En la lista creada anteriormente, ademas de imprimir el nombre de cada persona imprime un mensaje personalizado para cada persona.\n",
    " "
   ]
  },
  {
   "cell_type": "code",
   "execution_count": 13,
   "metadata": {},
   "outputs": [
    {
     "name": "stdout",
     "output_type": "stream",
     "text": [
      "('Benjamin', 'Eres el mejor portero de tu equipo')\n",
      "('Irving', 'Eres mi enfermero personal')\n",
      "('Yaneli', 'Eres la mejor arquitecta')\n"
     ]
    }
   ],
   "source": [
    "names=['Benjamin','Irving','Yaneli']\n",
    "print(names[0],'Eres el mejor portero de tu equipo')\n",
    "print(names[1],'Eres mi enfermero personal')\n",
    "print(names[2],'Eres la mejor arquitecta')"
   ]
  },
  {
   "cell_type": "markdown",
   "metadata": {},
   "source": [
    "• Tu propia lista: Piensa en una lista deseos, la lista debe de tener por lo menos 15 elementos. Imprime algunos de los deseos. Ejemplo Me gustarıa tener una moto Honda”"
   ]
  },
  {
   "cell_type": "code",
   "execution_count": 21,
   "metadata": {},
   "outputs": [
    {
     "name": "stdout",
     "output_type": "stream",
     "text": [
      "Me gustaria terminar mi carrera\n",
      "Quiero viajar por el mundo\n",
      "Tner una camara fotografica\n",
      "Ir al espacio\n",
      "Me gustaria tener una moto Harley\n",
      "me gustaria hablar 5 ideomas\n",
      "Me gustaria ir al tomorrowland\n",
      "Quisiera tener un alberque para mascotas\n",
      "Megustaria comer y no engordar\n",
      "Quisiera aportar algo a la ciencia\n",
      "Quisiera ver las maravillas del mundo\n",
      "Me gustaria explorar las piramides egipcias\n",
      "Me gustaria ir a una isla virgen\n",
      "Tener mi independencia\n",
      "Quisiera comprender la energia astral\n"
     ]
    }
   ],
   "source": [
    "deseos=['Me gustaria terminar mi carrera', 'Quiero viajar por el mundo','Tner una camara fotografica','Ir al espacio',\n",
    "        'Me gustaria tener una moto Harley','me gustaria hablar 5 ideomas','Me gustaria ir al tomorrowland',\n",
    "        'Quisiera tener un alberque para mascotas','Megustaria comer y no engordar','Quisiera aportar algo a la ciencia',\n",
    "        'Quisiera ver las maravillas del mundo', 'Me gustaria explorar las piramides egipcias', 'Me gustaria ir a una isla virgen', \n",
    "        'Tener mi independencia','Quisiera comprender la energia astral']\n",
    "for deceo in deseos:\n",
    "    print (deceo)"
   ]
  }
 ],
 "metadata": {
  "kernelspec": {
   "display_name": "Python 2",
   "language": "python",
   "name": "python2"
  },
  "language_info": {
   "codemirror_mode": {
    "name": "ipython",
    "version": 2
   },
   "file_extension": ".py",
   "mimetype": "text/x-python",
   "name": "python",
   "nbconvert_exporter": "python",
   "pygments_lexer": "ipython2",
   "version": "2.7.16"
  }
 },
 "nbformat": 4,
 "nbformat_minor": 2
}
