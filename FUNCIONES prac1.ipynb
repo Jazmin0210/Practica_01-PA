{
 "cells": [
  {
   "cell_type": "markdown",
   "metadata": {},
   "source": [
    "# FUNCIONES "
   ]
  },
  {
   "cell_type": "markdown",
   "metadata": {},
   "source": [
    "• T-Shirt: Elabora un función llamada make_shirt() que acepte el tamaño y el texto que se imprimira en la playera. La función debera de imprimir el tamaño y el texto que se han enviado a la función.\n"
   ]
  },
  {
   "cell_type": "code",
   "execution_count": 2,
   "metadata": {},
   "outputs": [
    {
     "name": "stdout",
     "output_type": "stream",
     "text": [
      "La talla de la playera es chica\n",
      "El exto que aparece en la playera es GLORIA\n"
     ]
    }
   ],
   "source": [
    "def make_shirt(talla,texto):\n",
    "    print('La talla de la playera es '+talla)\n",
    "    print('El exto que aparece en la playera es '+texto)\n",
    "make_shirt(talla='chica',texto='GLORIA')   "
   ]
  },
  {
   "cell_type": "markdown",
   "metadata": {},
   "source": [
    "• Playeras Grandes: Modifique la función make_shirt() de tal manera que el tamaño por default sea grande y el texto predefinido sea I <3 Python. Genere una playera grande y mediana con el mensaje predeterminado, y genere una playera pequeña con un mensaje diferente."
   ]
  },
  {
   "cell_type": "code",
   "execution_count": 3,
   "metadata": {},
   "outputs": [
    {
     "name": "stdout",
     "output_type": "stream",
     "text": [
      "La talla de la playera es grande\n",
      "El texto que aparece en la playera es I <3 python\n",
      "Esta playera de talla mediana,su texto que aparece es:I <3 python\n",
      "La talla de la playera es pequeña su texto es diferente: GLORIA!!!\n"
     ]
    }
   ],
   "source": [
    "def make_shirt(tam,tamano,texto,talla='grande',tex='I <3 python'):\n",
    "    print('La talla de la playera es '+talla)\n",
    "    print('El texto que aparece en la playera es '+tex)\n",
    "    print('Esta playera de talla '+tamano+',su texto que aparece es:'+tex)\n",
    "    print('La talla de la playera es '+tam+' su texto es diferente: '+texto)\n",
    "    \n",
    "make_shirt(tam='pequeña',tamano='mediana',texto='GLORIA!!!')"
   ]
  },
  {
   "cell_type": "markdown",
   "metadata": {},
   "source": [
    "• Ciudades: Escriba una fución llamada describe_city() que acepte como argumentos la ciudad y el país. La función debe imprimir un enunciado sencillo como: París está en Francia. Define el parámetro para el país con un valor predeterminado. Llame la función tres veces y que por lo menos una no sea el país predeterminado."
   ]
  },
  {
   "cell_type": "code",
   "execution_count": 5,
   "metadata": {},
   "outputs": [
    {
     "name": "stdout",
     "output_type": "stream",
     "text": [
      "la ciudad de Paris esta en Francia\n",
      "Francia es un lugra muy romantico\n",
      "En Paris se encuentra la torre ifel\n"
     ]
    }
   ],
   "source": [
    "def describe_city(ciudad='Paris',pais='Francia'):\n",
    "    print('la ciudad de '+ ciudad+' esta en '+pais )\n",
    "    print(pais +' es un lugra muy romantico')\n",
    "    print('En '+ciudad+' se encuentra la torre ifel')\n",
    "describe_city()\n",
    "    \n"
   ]
  }
 ],
 "metadata": {
  "kernelspec": {
   "display_name": "Python 2",
   "language": "python",
   "name": "python2"
  },
  "language_info": {
   "codemirror_mode": {
    "name": "ipython",
    "version": 2
   },
   "file_extension": ".py",
   "mimetype": "text/x-python",
   "name": "python",
   "nbconvert_exporter": "python",
   "pygments_lexer": "ipython2",
   "version": "2.7.16"
  }
 },
 "nbformat": 4,
 "nbformat_minor": 2
}
